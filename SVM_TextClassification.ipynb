{
  "nbformat": 4,
  "nbformat_minor": 0,
  "metadata": {
    "colab": {
      "provenance": [],
      "authorship_tag": "ABX9TyPScla6tuknYP1yIHbohv/Y",
      "include_colab_link": true
    },
    "kernelspec": {
      "name": "python3",
      "display_name": "Python 3"
    },
    "language_info": {
      "name": "python"
    }
  },
  "cells": [
    {
      "cell_type": "markdown",
      "metadata": {
        "id": "view-in-github",
        "colab_type": "text"
      },
      "source": [
        "<a href=\"https://colab.research.google.com/github/mohsen990/Text-Classification-SVM-Multi-Label-Text-Classification/blob/main/SVM_TextClassification.ipynb\" target=\"_parent\"><img src=\"https://colab.research.google.com/assets/colab-badge.svg\" alt=\"Open In Colab\"/></a>"
      ]
    },
    {
      "cell_type": "code",
      "execution_count": null,
      "metadata": {
        "id": "lifgn-vE2htf"
      },
      "outputs": [],
      "source": [
        "import pandas as pd\n",
        "from sklearn.feature_extraction.text import TfidfVectorizer\n",
        "from sklearn.model_selection import train_test_split\n",
        "from sklearn.svm import SVC\n",
        "from sklearn.metrics import accuracy_score, classification_report"
      ]
    },
    {
      "cell_type": "code",
      "source": [
        "# Sample data\n",
        "data = {\n",
        "    'text': [\n",
        "        \"I'm feeling great today!\",\n",
        "        \"Having a wonderful day!\",\n",
        "        \"So excited for the weekend!\",\n",
        "        \"Feeling down lately.\",\n",
        "        \"The news is depressing.\",\n",
        "        \"Missing my friends.\",\n",
        "        \"I'm furious about the situation.\",\n",
        "        \"This is making me so angry!\",\n",
        "        \"Can't believe how unfair this is.\",\n",
        "        \"Head over heels in love!\",\n",
        "        \"Love is in the air.\",\n",
        "        \"Feeling so much love for everyone.\",\n",
        "        \"What a surprise!\",\n",
        "        \"Didn't see that coming.\",\n",
        "        \"Completely caught off guard.\",\n",
        "        \"I'm feeling great today!\",\n",
        "        \"So excited for the weekend!\",\n",
        "        \"Having a wonderful day!\",\n",
        "        \"Feeling down lately.\",\n",
        "        \"Missing my friends.\",\n",
        "        \"The news is depressing.\",\n",
        "        \"I'm furious about the situation.\",\n",
        "        \"Can't believe how unfair this is.\",\n",
        "        \"This is making me so angry!\",\n",
        "        \"Love is in the air.\",\n",
        "        \"Head over heels in love!\",\n",
        "        \"Feeling so much love for everyone.\",\n",
        "        \"Didn't see that coming.\",\n",
        "        \"What a surprise!\",\n",
        "        \"Completely caught off guard.\",\n",
        "        \"I'm feeling great today!\",\n",
        "        \"So excited for the weekend!\",\n",
        "        \"Having a wonderful day!\",\n",
        "        \"Feeling down lately.\",\n",
        "        \"Missing my friends.\",\n",
        "        \"The news is depressing.\",\n",
        "        \"I'm furious about the situation.\",\n",
        "        \"Can't believe how unfair this is.\",\n",
        "        \"This is making me so angry!\",\n",
        "        \"Love is in the air.\",\n",
        "        \"Feeling so much love for everyone.\",\n",
        "        \"Head over heels in love!\",\n",
        "        \"What a surprise!\",\n",
        "        \"Didn't see that coming.\",\n",
        "        \"Completely caught off guard.\",\n",
        "        \"I'm feeling great today!\",\n",
        "        \"So excited for the weekend!\",\n",
        "        \"Having a wonderful day!\",\n",
        "        \"Feeling down lately.\",\n",
        "        \"The news is depressing.\",\n",
        "        \"Missing my friends.\",\n",
        "        \"Can't believe how unfair this is.\",\n",
        "        \"I'm furious about the situation.\",\n",
        "        \"This is making me so angry!\",\n",
        "        \"Love is in the air.\",\n",
        "        \"Head over heels in love!\",\n",
        "        \"Feeling so much love for everyone.\",\n",
        "        \"What a surprise!\",\n",
        "        \"Didn't see that coming.\",\n",
        "        \"Completely caught off guard.\",\n",
        "        \"I'm feeling great today!\",\n",
        "        \"So excited for the weekend!\",\n",
        "        \"Having a wonderful day!\",\n",
        "        \"Feeling down lately.\",\n",
        "        \"The news is depressing.\",\n",
        "        \"Missing my friends.\",\n",
        "        \"Can't believe how unfair this is.\",\n",
        "        \"I'm furious about the situation.\",\n",
        "        \"This is making me so angry!\",\n",
        "        \"Love is in the air.\",\n",
        "        \"Head over heels in love!\",\n",
        "        \"Feeling so much love for everyone.\",\n",
        "        \"What a surprise!\",\n",
        "        \"Didn't see that coming.\",\n",
        "        \"Completely caught off guard.\",\n",
        "        \"I'm feeling great today!\",\n",
        "        \"So excited for the weekend!\",\n",
        "        \"Having a wonderful day!\",\n",
        "        \"Feeling down lately.\",\n",
        "        \"The news is depressing.\",\n",
        "        \"Missing my friends.\",\n",
        "        \"I'm furious about the situation.\",\n",
        "        \"Can't believe how unfair this is.\",\n",
        "        \"This is making me so angry!\",\n",
        "        \"Love is in the air.\",\n",
        "        \"Head over heels in love!\",\n",
        "        \"Feeling so much love for everyone.\",\n",
        "        \"What a surprise!\",\n",
        "        \"Didn't see that coming.\",\n",
        "        \"Completely caught off guard.\",\n",
        "        \"I'm feeling great today!\",\n",
        "        \"So excited for the weekend!\",\n",
        "        \"Having a wonderful day!\",\n",
        "        \"Feeling down lately.\",\n",
        "        \"The news is depressing.\",\n",
        "        \"Missing my friends.\",\n",
        "        \"I'm furious about the situation.\",\n",
        "        \"Can't believe how unfair this is.\",\n",
        "        \"This is making me so angry!\",\n",
        "        \"Love is in the air.\",\n",
        "        \"Head over heels in love!\",\n",
        "        \"Feeling so much love for everyone.\",\n",
        "        \"What a surprise!\",\n",
        "        \"Didn't see that coming.\",\n",
        "        \"Completely caught off guard.\"\n",
        "    ],\n",
        "    'emotion': [\n",
        "        'happy', 'happy', 'happy', 'sad', 'sad', 'sad', 'anger', 'anger', 'anger', 'love',\n",
        "        'love', 'love', 'surprise', 'surprise', 'surprise', 'happy', 'happy', 'happy', 'sad',\n",
        "        'sad', 'sad', 'anger', 'anger', 'anger', 'love', 'love', 'love', 'surprise', 'surprise',\n",
        "        'surprise', 'happy', 'happy', 'happy', 'sad', 'sad', 'sad', 'anger', 'anger', 'anger',\n",
        "        'love', 'love', 'love', 'surprise', 'surprise', 'surprise', 'happy', 'happy', 'happy',\n",
        "        'sad', 'sad', 'sad', 'anger', 'anger', 'anger', 'love', 'love', 'love', 'surprise',\n",
        "        'surprise', 'surprise', 'happy', 'happy', 'happy', 'sad', 'sad', 'sad', 'anger', 'anger',\n",
        "        'anger', 'love', 'love', 'love', 'surprise', 'surprise', 'surprise', 'happy', 'happy',\n",
        "        'happy', 'sad', 'sad', 'sad', 'anger', 'anger', 'anger', 'love', 'love', 'love',\n",
        "        'surprise', 'surprise', 'surprise', 'happy', 'happy', 'happy', 'sad', 'sad', 'sad',\n",
        "        'anger', 'anger', 'anger', 'love', 'love', 'love', 'surprise', 'surprise', 'surprise'\n",
        "    ]\n",
        "}\n"
      ],
      "metadata": {
        "id": "JWfQhVlA2xD3"
      },
      "execution_count": null,
      "outputs": []
    },
    {
      "cell_type": "code",
      "source": [
        "# Creating a DataFrame\n",
        "df = pd.DataFrame(data)\n",
        "print(df.head(10))\n",
        "# Splitting the data into training and testing sets\n",
        "X_train, X_test, y_train, y_test = train_test_split(df['text'], df['emotion'], test_size=0.2, random_state=42)"
      ],
      "metadata": {
        "colab": {
          "base_uri": "https://localhost:8080/"
        },
        "id": "HSlBXDxw2-ov",
        "outputId": "3b654209-7086-4d96-b90f-bea581c1ef5c"
      },
      "execution_count": null,
      "outputs": [
        {
          "output_type": "stream",
          "name": "stdout",
          "text": [
            "                                text emotion\n",
            "0           I'm feeling great today!   happy\n",
            "1            Having a wonderful day!   happy\n",
            "2        So excited for the weekend!   happy\n",
            "3               Feeling down lately.     sad\n",
            "4            The news is depressing.     sad\n",
            "5                Missing my friends.     sad\n",
            "6   I'm furious about the situation.   anger\n",
            "7        This is making me so angry!   anger\n",
            "8  Can't believe how unfair this is.   anger\n",
            "9           Head over heels in love!    love\n"
          ]
        }
      ]
    },
    {
      "cell_type": "code",
      "source": [
        "# TF-IDF Vectorization\n",
        "vectorizer = TfidfVectorizer(max_features=1000)\n",
        "X_train_tfidf = vectorizer.fit_transform(X_train)\n",
        "X_test_tfidf = vectorizer.transform(X_test)"
      ],
      "metadata": {
        "id": "rc6fTnCo3J30"
      },
      "execution_count": null,
      "outputs": []
    },
    {
      "cell_type": "code",
      "source": [
        "# SVM Model\n",
        "svm_model = SVC(kernel='linear', C=1.0)\n",
        "svm_model.fit(X_train_tfidf, y_train)"
      ],
      "metadata": {
        "colab": {
          "base_uri": "https://localhost:8080/",
          "height": 74
        },
        "id": "qktPfmhl3MQ6",
        "outputId": "ae476844-31e7-4f56-ef86-318aa2a3cb49"
      },
      "execution_count": null,
      "outputs": [
        {
          "output_type": "execute_result",
          "data": {
            "text/plain": [
              "SVC(kernel='linear')"
            ],
            "text/html": [
              "<style>#sk-container-id-1 {color: black;background-color: white;}#sk-container-id-1 pre{padding: 0;}#sk-container-id-1 div.sk-toggleable {background-color: white;}#sk-container-id-1 label.sk-toggleable__label {cursor: pointer;display: block;width: 100%;margin-bottom: 0;padding: 0.3em;box-sizing: border-box;text-align: center;}#sk-container-id-1 label.sk-toggleable__label-arrow:before {content: \"▸\";float: left;margin-right: 0.25em;color: #696969;}#sk-container-id-1 label.sk-toggleable__label-arrow:hover:before {color: black;}#sk-container-id-1 div.sk-estimator:hover label.sk-toggleable__label-arrow:before {color: black;}#sk-container-id-1 div.sk-toggleable__content {max-height: 0;max-width: 0;overflow: hidden;text-align: left;background-color: #f0f8ff;}#sk-container-id-1 div.sk-toggleable__content pre {margin: 0.2em;color: black;border-radius: 0.25em;background-color: #f0f8ff;}#sk-container-id-1 input.sk-toggleable__control:checked~div.sk-toggleable__content {max-height: 200px;max-width: 100%;overflow: auto;}#sk-container-id-1 input.sk-toggleable__control:checked~label.sk-toggleable__label-arrow:before {content: \"▾\";}#sk-container-id-1 div.sk-estimator input.sk-toggleable__control:checked~label.sk-toggleable__label {background-color: #d4ebff;}#sk-container-id-1 div.sk-label input.sk-toggleable__control:checked~label.sk-toggleable__label {background-color: #d4ebff;}#sk-container-id-1 input.sk-hidden--visually {border: 0;clip: rect(1px 1px 1px 1px);clip: rect(1px, 1px, 1px, 1px);height: 1px;margin: -1px;overflow: hidden;padding: 0;position: absolute;width: 1px;}#sk-container-id-1 div.sk-estimator {font-family: monospace;background-color: #f0f8ff;border: 1px dotted black;border-radius: 0.25em;box-sizing: border-box;margin-bottom: 0.5em;}#sk-container-id-1 div.sk-estimator:hover {background-color: #d4ebff;}#sk-container-id-1 div.sk-parallel-item::after {content: \"\";width: 100%;border-bottom: 1px solid gray;flex-grow: 1;}#sk-container-id-1 div.sk-label:hover label.sk-toggleable__label {background-color: #d4ebff;}#sk-container-id-1 div.sk-serial::before {content: \"\";position: absolute;border-left: 1px solid gray;box-sizing: border-box;top: 0;bottom: 0;left: 50%;z-index: 0;}#sk-container-id-1 div.sk-serial {display: flex;flex-direction: column;align-items: center;background-color: white;padding-right: 0.2em;padding-left: 0.2em;position: relative;}#sk-container-id-1 div.sk-item {position: relative;z-index: 1;}#sk-container-id-1 div.sk-parallel {display: flex;align-items: stretch;justify-content: center;background-color: white;position: relative;}#sk-container-id-1 div.sk-item::before, #sk-container-id-1 div.sk-parallel-item::before {content: \"\";position: absolute;border-left: 1px solid gray;box-sizing: border-box;top: 0;bottom: 0;left: 50%;z-index: -1;}#sk-container-id-1 div.sk-parallel-item {display: flex;flex-direction: column;z-index: 1;position: relative;background-color: white;}#sk-container-id-1 div.sk-parallel-item:first-child::after {align-self: flex-end;width: 50%;}#sk-container-id-1 div.sk-parallel-item:last-child::after {align-self: flex-start;width: 50%;}#sk-container-id-1 div.sk-parallel-item:only-child::after {width: 0;}#sk-container-id-1 div.sk-dashed-wrapped {border: 1px dashed gray;margin: 0 0.4em 0.5em 0.4em;box-sizing: border-box;padding-bottom: 0.4em;background-color: white;}#sk-container-id-1 div.sk-label label {font-family: monospace;font-weight: bold;display: inline-block;line-height: 1.2em;}#sk-container-id-1 div.sk-label-container {text-align: center;}#sk-container-id-1 div.sk-container {/* jupyter's `normalize.less` sets `[hidden] { display: none; }` but bootstrap.min.css set `[hidden] { display: none !important; }` so we also need the `!important` here to be able to override the default hidden behavior on the sphinx rendered scikit-learn.org. See: https://github.com/scikit-learn/scikit-learn/issues/21755 */display: inline-block !important;position: relative;}#sk-container-id-1 div.sk-text-repr-fallback {display: none;}</style><div id=\"sk-container-id-1\" class=\"sk-top-container\"><div class=\"sk-text-repr-fallback\"><pre>SVC(kernel=&#x27;linear&#x27;)</pre><b>In a Jupyter environment, please rerun this cell to show the HTML representation or trust the notebook. <br />On GitHub, the HTML representation is unable to render, please try loading this page with nbviewer.org.</b></div><div class=\"sk-container\" hidden><div class=\"sk-item\"><div class=\"sk-estimator sk-toggleable\"><input class=\"sk-toggleable__control sk-hidden--visually\" id=\"sk-estimator-id-1\" type=\"checkbox\" checked><label for=\"sk-estimator-id-1\" class=\"sk-toggleable__label sk-toggleable__label-arrow\">SVC</label><div class=\"sk-toggleable__content\"><pre>SVC(kernel=&#x27;linear&#x27;)</pre></div></div></div></div></div>"
            ]
          },
          "metadata": {},
          "execution_count": 6
        }
      ]
    },
    {
      "cell_type": "code",
      "source": [
        "# Predictions\n",
        "y_pred = svm_model.predict(X_test_tfidf)"
      ],
      "metadata": {
        "id": "dNp8yuBF3Qzi"
      },
      "execution_count": null,
      "outputs": []
    },
    {
      "cell_type": "code",
      "source": [
        "# Evaluation\n",
        "accuracy = accuracy_score(y_test, y_pred)\n",
        "print(\"Accuracy:\", accuracy)\n",
        "\n",
        "# Printing classification report\n",
        "print(\"\\nClassification Report:\")\n",
        "print(classification_report(y_test, y_pred))"
      ],
      "metadata": {
        "id": "piFEIeYI3TcB",
        "outputId": "2dd1fb03-41f1-42f7-a1a4-21a54b9f5ba9",
        "colab": {
          "base_uri": "https://localhost:8080/"
        }
      },
      "execution_count": null,
      "outputs": [
        {
          "output_type": "stream",
          "name": "stdout",
          "text": [
            "Accuracy: 1.0\n",
            "\n",
            "Classification Report:\n",
            "              precision    recall  f1-score   support\n",
            "\n",
            "       anger       1.00      1.00      1.00         2\n",
            "       happy       1.00      1.00      1.00         6\n",
            "        love       1.00      1.00      1.00         3\n",
            "         sad       1.00      1.00      1.00         7\n",
            "    surprise       1.00      1.00      1.00         3\n",
            "\n",
            "    accuracy                           1.00        21\n",
            "   macro avg       1.00      1.00      1.00        21\n",
            "weighted avg       1.00      1.00      1.00        21\n",
            "\n"
          ]
        }
      ]
    }
  ]
}